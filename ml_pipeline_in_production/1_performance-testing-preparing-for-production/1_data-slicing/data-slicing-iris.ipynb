{
 "cells": [
  {
   "cell_type": "markdown",
   "id": "be9f5da3",
   "metadata": {},
   "source": [
    "## 1. Download the Iris data set from the UCI Machine Learning Repository."
   ]
  },
  {
   "cell_type": "code",
   "execution_count": 1,
   "id": "c3a9cabe",
   "metadata": {},
   "outputs": [
    {
     "name": "stdout",
     "output_type": "stream",
     "text": [
      "bezdekIris.data\t\t Index\t    iris.names\r\n",
      "data-slicing-iris.ipynb  iris.data  iris.zip\r\n"
     ]
    }
   ],
   "source": [
    "!ls"
   ]
  },
  {
   "cell_type": "code",
   "execution_count": 2,
   "id": "1625557a",
   "metadata": {},
   "outputs": [
    {
     "name": "stdout",
     "output_type": "stream",
     "text": [
      "1. Title: Iris Plants Database\r\n",
      "\tUpdated Sept 21 by C.Blake - Added discrepency information\r\n",
      "\r\n",
      "2. Sources:\r\n",
      "     (a) Creator: R.A. Fisher\r\n",
      "     (b) Donor: Michael Marshall (MARSHALL%PLU@io.arc.nasa.gov)\r\n",
      "     (c) Date: July, 1988\r\n",
      "\r\n",
      "3. Past Usage:\r\n",
      "   - Publications: too many to mention!!!  Here are a few.\r\n",
      "   1. Fisher,R.A. \"The use of multiple measurements in taxonomic problems\"\r\n",
      "      Annual Eugenics, 7, Part II, 179-188 (1936); also in \"Contributions\r\n",
      "      to Mathematical Statistics\" (John Wiley, NY, 1950).\r\n",
      "   2. Duda,R.O., & Hart,P.E. (1973) Pattern Classification and Scene Analysis.\r\n",
      "      (Q327.D83) John Wiley & Sons.  ISBN 0-471-22361-1.  See page 218.\r\n",
      "   3. Dasarathy, B.V. (1980) \"Nosing Around the Neighborhood: A New System\r\n",
      "      Structure and Classification Rule for Recognition in Partially Exposed\r\n",
      "      Environments\".  IEEE Transactions on Pattern Analysis and Machine\r\n",
      "      Intelligence, Vol. PAMI-2, No. 1, 67-71.\r\n",
      "      -- Results:\r\n",
      "         -- very low misclassification rates (0% for the setosa class)\r\n",
      "   4. Gates, G.W. (1972) \"The Reduced Nearest Neighbor Rule\".  IEEE \r\n",
      "      Transactions on Information Theory, May 1972, 431-433.\r\n",
      "      -- Results:\r\n",
      "         -- very low misclassification rates again\r\n",
      "   5. See also: 1988 MLC Proceedings, 54-64.  Cheeseman et al's AUTOCLASS II\r\n",
      "      conceptual clustering system finds 3 classes in the data.\r\n",
      "\r\n",
      "4. Relevant Information:\r\n",
      "   --- This is perhaps the best known database to be found in the pattern\r\n",
      "       recognition literature.  Fisher's paper is a classic in the field\r\n",
      "       and is referenced frequently to this day.  (See Duda & Hart, for\r\n",
      "       example.)  The data set contains 3 classes of 50 instances each,\r\n",
      "       where each class refers to a type of iris plant.  One class is\r\n",
      "       linearly separable from the other 2; the latter are NOT linearly\r\n",
      "       separable from each other.\r\n",
      "   --- Predicted attribute: class of iris plant.\r\n",
      "   --- This is an exceedingly simple domain.\r\n",
      "   --- This data differs from the data presented in Fishers article\r\n",
      "\t(identified by Steve Chadwick,  spchadwick@espeedaz.net )\r\n",
      "\tThe 35th sample should be: 4.9,3.1,1.5,0.2,\"Iris-setosa\"\r\n",
      "\twhere the error is in the fourth feature.\r\n",
      "\tThe 38th sample: 4.9,3.6,1.4,0.1,\"Iris-setosa\"\r\n",
      "\twhere the errors are in the second and third features.  \r\n",
      "\r\n",
      "5. Number of Instances: 150 (50 in each of three classes)\r\n",
      "\r\n",
      "6. Number of Attributes: 4 numeric, predictive attributes and the class\r\n",
      "\r\n",
      "7. Attribute Information:\r\n",
      "   1. sepal length in cm\r\n",
      "   2. sepal width in cm\r\n",
      "   3. petal length in cm\r\n",
      "   4. petal width in cm\r\n",
      "   5. class: \r\n",
      "      -- Iris Setosa\r\n",
      "      -- Iris Versicolour\r\n",
      "      -- Iris Virginica\r\n",
      "\r\n",
      "8. Missing Attribute Values: None\r\n",
      "\r\n",
      "Summary Statistics:\r\n",
      "\t         Min  Max   Mean    SD   Class Correlation\r\n",
      "   sepal length: 4.3  7.9   5.84  0.83    0.7826   \r\n",
      "    sepal width: 2.0  4.4   3.05  0.43   -0.4194\r\n",
      "   petal length: 1.0  6.9   3.76  1.76    0.9490  (high!)\r\n",
      "    petal width: 0.1  2.5   1.20  0.76    0.9565  (high!)\r\n",
      "\r\n",
      "9. Class Distribution: 33.3% for each of 3 classes.\r\n"
     ]
    }
   ],
   "source": [
    "!cat iris.names"
   ]
  },
  {
   "cell_type": "markdown",
   "id": "30957eaa",
   "metadata": {},
   "source": [
    "## 2. Load the data using Pandas and then write a function that outputs the descriptive stats for each numeric feature while the categorical variable is held fixed.\n",
    "\n",
    "## 3. Run this function for each of the four numeric variables in the Iris data set."
   ]
  },
  {
   "cell_type": "code",
   "execution_count": 3,
   "id": "89be4b6e",
   "metadata": {},
   "outputs": [
    {
     "data": {
      "text/html": [
       "<div>\n",
       "<style scoped>\n",
       "    .dataframe tbody tr th:only-of-type {\n",
       "        vertical-align: middle;\n",
       "    }\n",
       "\n",
       "    .dataframe tbody tr th {\n",
       "        vertical-align: top;\n",
       "    }\n",
       "\n",
       "    .dataframe thead th {\n",
       "        text-align: right;\n",
       "    }\n",
       "</style>\n",
       "<table border=\"1\" class=\"dataframe\">\n",
       "  <thead>\n",
       "    <tr style=\"text-align: right;\">\n",
       "      <th></th>\n",
       "      <th>sepal_length</th>\n",
       "      <th>sepal_width</th>\n",
       "      <th>petal_length</th>\n",
       "      <th>petal_width</th>\n",
       "      <th>class</th>\n",
       "    </tr>\n",
       "  </thead>\n",
       "  <tbody>\n",
       "    <tr>\n",
       "      <th>0</th>\n",
       "      <td>5.1</td>\n",
       "      <td>3.5</td>\n",
       "      <td>1.4</td>\n",
       "      <td>0.2</td>\n",
       "      <td>Iris-setosa</td>\n",
       "    </tr>\n",
       "    <tr>\n",
       "      <th>1</th>\n",
       "      <td>4.9</td>\n",
       "      <td>3.0</td>\n",
       "      <td>1.4</td>\n",
       "      <td>0.2</td>\n",
       "      <td>Iris-setosa</td>\n",
       "    </tr>\n",
       "    <tr>\n",
       "      <th>2</th>\n",
       "      <td>4.7</td>\n",
       "      <td>3.2</td>\n",
       "      <td>1.3</td>\n",
       "      <td>0.2</td>\n",
       "      <td>Iris-setosa</td>\n",
       "    </tr>\n",
       "    <tr>\n",
       "      <th>3</th>\n",
       "      <td>4.6</td>\n",
       "      <td>3.1</td>\n",
       "      <td>1.5</td>\n",
       "      <td>0.2</td>\n",
       "      <td>Iris-setosa</td>\n",
       "    </tr>\n",
       "    <tr>\n",
       "      <th>4</th>\n",
       "      <td>5.0</td>\n",
       "      <td>3.6</td>\n",
       "      <td>1.4</td>\n",
       "      <td>0.2</td>\n",
       "      <td>Iris-setosa</td>\n",
       "    </tr>\n",
       "  </tbody>\n",
       "</table>\n",
       "</div>"
      ],
      "text/plain": [
       "   sepal_length  sepal_width  petal_length  petal_width        class\n",
       "0           5.1          3.5           1.4          0.2  Iris-setosa\n",
       "1           4.9          3.0           1.4          0.2  Iris-setosa\n",
       "2           4.7          3.2           1.3          0.2  Iris-setosa\n",
       "3           4.6          3.1           1.5          0.2  Iris-setosa\n",
       "4           5.0          3.6           1.4          0.2  Iris-setosa"
      ]
     },
     "execution_count": 3,
     "metadata": {},
     "output_type": "execute_result"
    }
   ],
   "source": [
    "import pandas as pd\n",
    "\n",
    "# According with the doc\n",
    "columns = [ 'sepal_length', 'sepal_width', 'petal_length', 'petal_width', 'class'] \n",
    "\n",
    "df = pd.read_csv('iris.data', names=columns)\n",
    "df.head()"
   ]
  },
  {
   "cell_type": "code",
   "execution_count": 4,
   "id": "827fec41",
   "metadata": {},
   "outputs": [
    {
     "data": {
      "text/plain": [
       "array(['Iris-setosa', 'Iris-versicolor', 'Iris-virginica'], dtype=object)"
      ]
     },
     "execution_count": 4,
     "metadata": {},
     "output_type": "execute_result"
    }
   ],
   "source": [
    "df['class'].unique()"
   ]
  },
  {
   "cell_type": "code",
   "execution_count": 5,
   "id": "bd02a14c",
   "metadata": {},
   "outputs": [
    {
     "data": {
      "text/plain": [
       "sepal_length    5.936\n",
       "sepal_width     2.770\n",
       "petal_length    4.260\n",
       "petal_width     1.326\n",
       "dtype: float64"
      ]
     },
     "execution_count": 5,
     "metadata": {},
     "output_type": "execute_result"
    }
   ],
   "source": [
    "df[df['class'] == 'Iris-versicolor'].drop(columns=['class']).mean()"
   ]
  },
  {
   "cell_type": "code",
   "execution_count": 6,
   "id": "b3466c78",
   "metadata": {},
   "outputs": [
    {
     "name": "stdout",
     "output_type": "stream",
     "text": [
      "{'Iris-setosa': {'mean': sepal_length    5.006\n",
      "sepal_width     3.418\n",
      "petal_length    1.464\n",
      "petal_width     0.244\n",
      "dtype: float64, 'stddev': sepal_length    0.352490\n",
      "sepal_width     0.381024\n",
      "petal_length    0.173511\n",
      "petal_width     0.107210\n",
      "dtype: float64}, 'Iris-versicolor': {'mean': sepal_length    5.936\n",
      "sepal_width     2.770\n",
      "petal_length    4.260\n",
      "petal_width     1.326\n",
      "dtype: float64, 'stddev': sepal_length    0.516171\n",
      "sepal_width     0.313798\n",
      "petal_length    0.469911\n",
      "petal_width     0.197753\n",
      "dtype: float64}, 'Iris-virginica': {'mean': sepal_length    6.588\n",
      "sepal_width     2.974\n",
      "petal_length    5.552\n",
      "petal_width     2.026\n",
      "dtype: float64, 'stddev': sepal_length    0.635880\n",
      "sepal_width     0.322497\n",
      "petal_length    0.551895\n",
      "petal_width     0.274650\n",
      "dtype: float64}}\n"
     ]
    }
   ],
   "source": [
    "descriptive_stats_iris = {}\n",
    "\n",
    "for cl in df['class'].unique():\n",
    "    class_df = df[df['class'] == cl].drop(columns=['class'])\n",
    "    descriptive_stats_iris[cl] = {'mean':class_df.mean(), 'stddev':class_df.std()}\n",
    "\n",
    "print(descriptive_stats_iris)"
   ]
  },
  {
   "cell_type": "code",
   "execution_count": 7,
   "id": "42df2bd2",
   "metadata": {},
   "outputs": [
    {
     "name": "stdout",
     "output_type": "stream",
     "text": [
      "Class: Iris-setosa\n",
      "sepal_length mean: 5.0060\n",
      "sepal_length stddev: 0.3525\n",
      "Class: Iris-versicolor\n",
      "sepal_length mean: 5.9360\n",
      "sepal_length stddev: 0.5162\n",
      "Class: Iris-virginica\n",
      "sepal_length mean: 6.5880\n",
      "sepal_length stddev: 0.6359\n",
      "\n",
      "Class: Iris-setosa\n",
      "sepal_width mean: 3.4180\n",
      "sepal_width stddev: 0.3810\n",
      "Class: Iris-versicolor\n",
      "sepal_width mean: 2.7700\n",
      "sepal_width stddev: 0.3138\n",
      "Class: Iris-virginica\n",
      "sepal_width mean: 2.9740\n",
      "sepal_width stddev: 0.3225\n",
      "\n",
      "Class: Iris-setosa\n",
      "petal_length mean: 1.4640\n",
      "petal_length stddev: 0.1735\n",
      "Class: Iris-versicolor\n",
      "petal_length mean: 4.2600\n",
      "petal_length stddev: 0.4699\n",
      "Class: Iris-virginica\n",
      "petal_length mean: 5.5520\n",
      "petal_length stddev: 0.5519\n",
      "\n",
      "Class: Iris-setosa\n",
      "petal_width mean: 0.2440\n",
      "petal_width stddev: 0.1072\n",
      "Class: Iris-versicolor\n",
      "petal_width mean: 1.3260\n",
      "petal_width stddev: 0.1978\n",
      "Class: Iris-virginica\n",
      "petal_width mean: 2.0260\n",
      "petal_width stddev: 0.2747\n",
      "\n"
     ]
    }
   ],
   "source": [
    "def slice_iris(df, feature):\n",
    "    \"\"\" Function for calculating descriptive stats on slices of the Iris dataset.\"\"\"\n",
    "    for cls in df[\"class\"].unique():\n",
    "        df_temp = df[df[\"class\"] == cls]\n",
    "        mean = df_temp[feature].mean()\n",
    "        stddev = df_temp[feature].std()\n",
    "        print(f\"Class: {cls}\")\n",
    "        print(f\"{feature} mean: {mean:.4f}\")\n",
    "        print(f\"{feature} stddev: {stddev:.4f}\")\n",
    "    print()\n",
    "\n",
    "\n",
    "slice_iris(df, \"sepal_length\")\n",
    "slice_iris(df, \"sepal_width\")\n",
    "slice_iris(df, \"petal_length\")\n",
    "slice_iris(df, \"petal_width\")"
   ]
  },
  {
   "cell_type": "code",
   "execution_count": null,
   "id": "39b86178",
   "metadata": {},
   "outputs": [],
   "source": []
  }
 ],
 "metadata": {
  "kernelspec": {
   "display_name": "Python 3 (ipykernel)",
   "language": "python",
   "name": "python3"
  },
  "language_info": {
   "codemirror_mode": {
    "name": "ipython",
    "version": 3
   },
   "file_extension": ".py",
   "mimetype": "text/x-python",
   "name": "python",
   "nbconvert_exporter": "python",
   "pygments_lexer": "ipython3",
   "version": "3.8.20"
  }
 },
 "nbformat": 4,
 "nbformat_minor": 5
}
