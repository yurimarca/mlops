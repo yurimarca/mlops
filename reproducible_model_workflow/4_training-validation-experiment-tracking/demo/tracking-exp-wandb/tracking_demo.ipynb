{
 "cells": [
  {
   "cell_type": "code",
   "execution_count": 1,
   "id": "little-journey",
   "metadata": {},
   "outputs": [],
   "source": [
    "import wandb\n",
    "import matplotlib.pyplot as plt\n",
    "import numpy as np"
   ]
  },
  {
   "cell_type": "code",
   "execution_count": 2,
   "id": "stainless-geometry",
   "metadata": {},
   "outputs": [
    {
     "name": "stderr",
     "output_type": "stream",
     "text": [
      "\u001b[34m\u001b[1mwandb\u001b[0m: Using wandb-core as the SDK backend. Please refer to https://wandb.me/wandb-core for more information.\n",
      "\u001b[34m\u001b[1mwandb\u001b[0m: Currently logged in as: \u001b[33myurimarca\u001b[0m (\u001b[33myurimarca-ai\u001b[0m). Use \u001b[1m`wandb login --relogin`\u001b[0m to force relogin\n"
     ]
    },
    {
     "data": {
      "text/html": [
       "Tracking run with wandb version 0.18.5"
      ],
      "text/plain": [
       "<IPython.core.display.HTML object>"
      ]
     },
     "metadata": {},
     "output_type": "display_data"
    },
    {
     "data": {
      "text/html": [
       "Run data is saved locally in <code>/home/ymarca/Code/mlops/reproducible_model_workflow/4_training-validation-experiment-tracking/demo/tracking-exp-wandb/wandb/run-20241127_213946-j2odc8x9</code>"
      ],
      "text/plain": [
       "<IPython.core.display.HTML object>"
      ]
     },
     "metadata": {},
     "output_type": "display_data"
    },
    {
     "data": {
      "text/html": [
       "Syncing run <strong><a href='https://wandb.ai/yurimarca-ai/tracking_demo/runs/j2odc8x9' target=\"_blank\">giddy-smoke-1</a></strong> to <a href='https://wandb.ai/yurimarca-ai/tracking_demo' target=\"_blank\">Weights & Biases</a> (<a href='https://wandb.me/run' target=\"_blank\">docs</a>)<br/>"
      ],
      "text/plain": [
       "<IPython.core.display.HTML object>"
      ]
     },
     "metadata": {},
     "output_type": "display_data"
    },
    {
     "data": {
      "text/html": [
       " View project at <a href='https://wandb.ai/yurimarca-ai/tracking_demo' target=\"_blank\">https://wandb.ai/yurimarca-ai/tracking_demo</a>"
      ],
      "text/plain": [
       "<IPython.core.display.HTML object>"
      ]
     },
     "metadata": {},
     "output_type": "display_data"
    },
    {
     "data": {
      "text/html": [
       " View run at <a href='https://wandb.ai/yurimarca-ai/tracking_demo/runs/j2odc8x9' target=\"_blank\">https://wandb.ai/yurimarca-ai/tracking_demo/runs/j2odc8x9</a>"
      ],
      "text/plain": [
       "<IPython.core.display.HTML object>"
      ]
     },
     "metadata": {},
     "output_type": "display_data"
    }
   ],
   "source": [
    "run = wandb.init(project=\"tracking_demo\")"
   ]
  },
  {
   "cell_type": "code",
   "execution_count": 3,
   "id": "divided-fellow",
   "metadata": {},
   "outputs": [],
   "source": [
    "# Storing hyper parameters\n",
    "run.config.update({\n",
    "    \"batch_size\": 128,\n",
    "    \"weight_decay\": 0.01,\n",
    "    \"augmentations\": {\n",
    "        \"rot_angle\": 45,\n",
    "        \"crop_size\": 224\n",
    "    }\n",
    "})\n",
    "\n",
    "# NOTE: if we have arguments to argparse, we can do:\n",
    "# parser = argparse.ArgumentParser(description=\"Train a Random Forest\")\n",
    "# parser.add_argument(\"--batch_size\", type=int, ...)\n",
    "# parser.add_argument(\"--weight_decay\", type=float, ...)\n",
    "# args = parser.parse_arguments()\n",
    "# run.config.update(args)"
   ]
  },
  {
   "cell_type": "code",
   "execution_count": 4,
   "id": "regular-component",
   "metadata": {},
   "outputs": [],
   "source": [
    "# Log a final score\n",
    "run.summary['accuracy'] = 0.9"
   ]
  },
  {
   "cell_type": "code",
   "execution_count": 5,
   "id": "republican-message",
   "metadata": {},
   "outputs": [],
   "source": [
    "# Log a time-varying metric\n",
    "# The last value will also be reported in the table, unless\n",
    "# we override it with run.summary['loss']\n",
    "for i in range(10):\n",
    "    run.log(\n",
    "        {\n",
    "            \"loss\": 1.2 - i * 0.1\n",
    "        }\n",
    "    )"
   ]
  },
  {
   "cell_type": "code",
   "execution_count": 6,
   "id": "falling-poison",
   "metadata": {},
   "outputs": [],
   "source": [
    "# Log multiple time-varying metrics\n",
    "for i in range(10):\n",
    "    run.log(\n",
    "        {\n",
    "            \"recall\": 0.8 + i * 0.01,\n",
    "            \"ROC\": 0.1 + i**2 * 0.01\n",
    "        }\n",
    "    )"
   ]
  },
  {
   "cell_type": "code",
   "execution_count": 7,
   "id": "given-gibraltar",
   "metadata": {},
   "outputs": [],
   "source": [
    "# Explicit x-axis\n",
    "for i in range(10):\n",
    "    run.log(\n",
    "        {\n",
    "            \"precision\": 0.8 + i * 0.01,\n",
    "            \"epoch\": i\n",
    "        }\n",
    "    )"
   ]
  },
  {
   "cell_type": "code",
   "execution_count": 8,
   "id": "popular-apache",
   "metadata": {},
   "outputs": [
    {
     "name": "stderr",
     "output_type": "stream",
     "text": [
      "/tmp/ipykernel_8965/3196780892.py:8: RuntimeWarning: invalid value encountered in sqrt\n",
      "  eq1 = ((x/7)**2*sqrt(abs(abs(x)-3)/(abs(x)-3))+(y/3)**2*sqrt(abs(y+3/7*sqrt(33))/(y+3/7*sqrt(33)))-1)\n",
      "/tmp/ipykernel_8965/3196780892.py:9: RuntimeWarning: invalid value encountered in sqrt\n",
      "  eq2 = (abs(x/2)-((3*sqrt(33)-7)/112)*x**2-3+sqrt(1-(abs(abs(x)-2)-1)**2)-y)\n",
      "/tmp/ipykernel_8965/3196780892.py:10: RuntimeWarning: invalid value encountered in sqrt\n",
      "  eq3 = (9*sqrt(abs((abs(x)-1)*(abs(x)-.75))/((1-abs(x))*(abs(x)-.75)))-8*abs(x)-y)\n",
      "/tmp/ipykernel_8965/3196780892.py:11: RuntimeWarning: invalid value encountered in sqrt\n",
      "  eq4 = (3*abs(x)+.75*sqrt(abs((abs(x)-.75)*(abs(x)-.5))/((.75-abs(x))*(abs(x)-.5)))-y)\n",
      "/tmp/ipykernel_8965/3196780892.py:12: RuntimeWarning: invalid value encountered in sqrt\n",
      "  eq5 = (2.25*sqrt(abs((x-.5)*(x+.5))/((.5-x)*(.5+x)))-y)\n",
      "/tmp/ipykernel_8965/3196780892.py:13: RuntimeWarning: invalid value encountered in sqrt\n",
      "  eq6 = (6*sqrt(10)/7+(1.5-.5*abs(x))*sqrt(abs(abs(x)-1)/(abs(x)-1))-(6*sqrt(10)/14)*sqrt(4-(abs(x)-1)**2)-y)\n"
     ]
    },
    {
     "data": {
      "image/png": "[encoded data removed]",
      "text/plain": [
       "<Figure size 640x480 with 1 Axes>"
      ]
     },
     "metadata": {},
     "output_type": "display_data"
    }
   ],
   "source": [
    "from numpy import sqrt \n",
    "\n",
    "# Credits: Trae Blain (https://gist.github.com/traeblain/1487795)\n",
    "x1 = np.arange(-7.25, 7.25, 0.012)\n",
    "y1 = np.arange(-5, 5, 0.012)\n",
    "x, y = np.meshgrid(x1, y1)\n",
    "\n",
    "eq1 = ((x/7)**2*sqrt(abs(abs(x)-3)/(abs(x)-3))+(y/3)**2*sqrt(abs(y+3/7*sqrt(33))/(y+3/7*sqrt(33)))-1)\n",
    "eq2 = (abs(x/2)-((3*sqrt(33)-7)/112)*x**2-3+sqrt(1-(abs(abs(x)-2)-1)**2)-y)\n",
    "eq3 = (9*sqrt(abs((abs(x)-1)*(abs(x)-.75))/((1-abs(x))*(abs(x)-.75)))-8*abs(x)-y)\n",
    "eq4 = (3*abs(x)+.75*sqrt(abs((abs(x)-.75)*(abs(x)-.5))/((.75-abs(x))*(abs(x)-.5)))-y)\n",
    "eq5 = (2.25*sqrt(abs((x-.5)*(x+.5))/((.5-x)*(.5+x)))-y)\n",
    "eq6 = (6*sqrt(10)/7+(1.5-.5*abs(x))*sqrt(abs(abs(x)-1)/(abs(x)-1))-(6*sqrt(10)/14)*sqrt(4-(abs(x)-1)**2)-y)\n",
    "equation=[eq1,eq2,eq3,eq4,eq5,eq6]\n",
    "\n",
    "fig, sub = plt.subplots()\n",
    "for f in equation:\n",
    "    sub.contour(x, y, f, [0])"
   ]
  },
  {
   "cell_type": "code",
   "execution_count": 9,
   "id": "atmospheric-bookmark",
   "metadata": {},
   "outputs": [],
   "source": [
    "run.log({\n",
    "    \"batman\": wandb.Image(fig)\n",
    "})"
   ]
  },
  {
   "cell_type": "code",
   "execution_count": 10,
   "id": "fleet-result",
   "metadata": {},
   "outputs": [
    {
     "data": {
      "application/vnd.jupyter.widget-view+json": {
       "model_id": "",
       "version_major": 2,
       "version_minor": 0
      },
      "text/plain": [
       "VBox(children=(Label(value='0.032 MB of 0.032 MB uploaded\\r'), FloatProgress(value=1.0, max=1.0)))"
      ]
     },
     "metadata": {},
     "output_type": "display_data"
    },
    {
     "data": {
      "text/html": [
       "<style>\n",
       "    table.wandb td:nth-child(1) { padding: 0 10px; text-align: left ; width: auto;} td:nth-child(2) {text-align: left ; width: 100%}\n",
       "    .wandb-row { display: flex; flex-direction: row; flex-wrap: wrap; justify-content: flex-start; width: 100% }\n",
       "    .wandb-col { display: flex; flex-direction: column; flex-basis: 100%; flex: 1; padding: 10px; }\n",
       "    </style>\n",
       "<div class=\"wandb-row\"><div class=\"wandb-col\"><h3>Run history:</h3><br/><table class=\"wandb\"><tr><td>ROC</td><td>▁▁▁▂▂▃▄▅▇█</td></tr><tr><td>epoch</td><td>▁▂▃▃▄▅▆▆▇█</td></tr><tr><td>loss</td><td>█▇▆▆▅▄▃▃▂▁</td></tr><tr><td>precision</td><td>▁▂▃▃▄▅▆▆▇█</td></tr><tr><td>recall</td><td>▁▂▃▃▄▅▆▆▇█</td></tr></table><br/></div><div class=\"wandb-col\"><h3>Run summary:</h3><br/><table class=\"wandb\"><tr><td>ROC</td><td>0.91</td></tr><tr><td>accuracy</td><td>0.9</td></tr><tr><td>epoch</td><td>9</td></tr><tr><td>loss</td><td>0.3</td></tr><tr><td>precision</td><td>0.89</td></tr><tr><td>recall</td><td>0.89</td></tr></table><br/></div></div>"
      ],
      "text/plain": [
       "<IPython.core.display.HTML object>"
      ]
     },
     "metadata": {},
     "output_type": "display_data"
    },
    {
     "data": {
      "text/html": [
       " View run <strong style=\"color:#cdcd00\">giddy-smoke-1</strong> at: <a href='https://wandb.ai/yurimarca-ai/tracking_demo/runs/j2odc8x9' target=\"_blank\">https://wandb.ai/yurimarca-ai/tracking_demo/runs/j2odc8x9</a><br/> View project at: <a href='https://wandb.ai/yurimarca-ai/tracking_demo' target=\"_blank\">https://wandb.ai/yurimarca-ai/tracking_demo</a><br/>Synced 4 W&B file(s), 0 media file(s), 3 artifact file(s) and 1 other file(s)"
      ],
      "text/plain": [
       "<IPython.core.display.HTML object>"
      ]
     },
     "metadata": {},
     "output_type": "display_data"
    },
    {
     "data": {
      "text/html": [
       "Find logs at: <code>./wandb/run-20241127_213946-j2odc8x9/logs</code>"
      ],
      "text/plain": [
       "<IPython.core.display.HTML object>"
      ]
     },
     "metadata": {},
     "output_type": "display_data"
    }
   ],
   "source": [
    "run.finish()"
   ]
  },
  {
   "cell_type": "code",
   "execution_count": null,
   "id": "united-survival",
   "metadata": {},
   "outputs": [],
   "source": []
  }
 ],
 "metadata": {
  "kernelspec": {
   "display_name": "Python 3 (ipykernel)",
   "language": "python",
   "name": "python3"
  },
  "language_info": {
   "codemirror_mode": {
    "name": "ipython",
    "version": 3
   },
   "file_extension": ".py",
   "mimetype": "text/x-python",
   "name": "python",
   "nbconvert_exporter": "python",
   "pygments_lexer": "ipython3",
   "version": "3.8.20"
  },
  "widgets": {
   "application/vnd.jupyter.widget-state+json": {
    "state": {
     "03f4f83cd0714776a533f1284144f2ef": {
      "model_module": "@jupyter-widgets/controls",
      "model_module_version": "1.5.0",
      "model_name": "FloatProgressModel",
      "state": {
       "layout": "IPY_MODEL_6b21343a61074744b166095487e9820d",
       "max": 1,
       "style": "IPY_MODEL_81890ec6bd484f88b9b141265164024f"
      }
     },
     "529cad614f1e40bb9989142a63351254": {
      "model_module": "@jupyter-widgets/controls",
      "model_module_version": "1.5.0",
      "model_name": "VBoxModel",
      "state": {
       "children": [
        "IPY_MODEL_92c1ce4046334db7aea4430a4bd496b7",
        "IPY_MODEL_03f4f83cd0714776a533f1284144f2ef"
       ],
       "layout": "IPY_MODEL_f5384aaf90114b5ebaa2fab89accb817"
      }
     },
     "6b21343a61074744b166095487e9820d": {
      "model_module": "@jupyter-widgets/base",
      "model_module_version": "1.2.0",
      "model_name": "LayoutModel",
      "state": {}
     },
     "81890ec6bd484f88b9b141265164024f": {
      "model_module": "@jupyter-widgets/controls",
      "model_module_version": "1.5.0",
      "model_name": "ProgressStyleModel",
      "state": {
       "description_width": ""
      }
     },
     "92c1ce4046334db7aea4430a4bd496b7": {
      "model_module": "@jupyter-widgets/controls",
      "model_module_version": "1.5.0",
      "model_name": "LabelModel",
      "state": {
       "layout": "IPY_MODEL_e97fa6a23a4f4055a25fc2de01bace3f",
       "style": "IPY_MODEL_fd2cc1d20719421a83df067306d5ce84"
      }
     },
     "e97fa6a23a4f4055a25fc2de01bace3f": {
      "model_module": "@jupyter-widgets/base",
      "model_module_version": "1.2.0",
      "model_name": "LayoutModel",
      "state": {}
     },
     "f5384aaf90114b5ebaa2fab89accb817": {
      "model_module": "@jupyter-widgets/base",
      "model_module_version": "1.2.0",
      "model_name": "LayoutModel",
      "state": {}
     },
     "fd2cc1d20719421a83df067306d5ce84": {
      "model_module": "@jupyter-widgets/controls",
      "model_module_version": "1.5.0",
      "model_name": "DescriptionStyleModel",
      "state": {
       "description_width": ""
      }
     }
    },
    "version_major": 2,
    "version_minor": 0
   }
  }
 },
 "nbformat": 4,
 "nbformat_minor": 5
}
